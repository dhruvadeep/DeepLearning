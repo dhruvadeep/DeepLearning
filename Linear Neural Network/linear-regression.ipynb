{
 "cells": [
  {
   "cell_type": "code",
   "execution_count": 2,
   "metadata": {},
   "outputs": [],
   "source": [
    "%matplotlib inline\n",
    "import math\n",
    "import time\n",
    "import numpy as np\n",
    "import torch\n",
    "from required import torch as d2l\n"
   ]
  },
  {
   "cell_type": "markdown",
   "metadata": {},
   "source": [
    "So it can be expressed as y = Summation(w.x) + h\n",
    "Where w is weight and x is the feature.\n"
   ]
  },
  {
   "cell_type": "code",
   "execution_count": 1,
   "metadata": {},
   "outputs": [
    {
     "data": {
      "text/plain": [
       "'\\n    y = w^T * x + b = w1 * x1 + w2 * x2 + ... + b\\n\\n    w = [w1, w2, ..., wd]\\n    x = [x1, x2, ..., xd]\\n    b = bias\\n'"
      ]
     },
     "execution_count": 1,
     "metadata": {},
     "output_type": "execute_result"
    }
   ],
   "source": [
    "'''\n",
    "    y = w^T * x + b = w1 * x1 + w2 * x2 + ... + b\n",
    "\n",
    "    w = [w1, w2, ..., wd]\n",
    "    x = [x1, x2, ..., xd]\n",
    "    b = bias\n",
    "'''"
   ]
  },
  {
   "cell_type": "code",
   "execution_count": null,
   "metadata": {},
   "outputs": [],
   "source": []
  },
  {
   "cell_type": "markdown",
   "metadata": {},
   "source": [
    "Loss Function\n",
    "\n",
    "Loss less or 0 is perfect but there will be loss. Or more like unfitness. Loss function quantify the distance between the real and predicted values of the target\n",
    "\n",
    "Most used loss function: \n",
    "\n",
    "        L(w,b) = 0.5 (y - y')^2\n",
    "\n",
    "1/2 is there since we sometimes take derivative so it cancels out.\n"
   ]
  },
  {
   "cell_type": "code",
   "execution_count": null,
   "metadata": {},
   "outputs": [],
   "source": [
    "'''\n",
    "    Mean Squared Error Loss Function\n",
    "\n",
    "    L(w, b) = 1/n * sum(1/2 * (y - y')^2)\n",
    "\n",
    "    When training the model, we seek parameters \n",
    "    (w*, b*) that minimize the average loss across all training examples.\n",
    "\n",
    "    w*, b* = argmin(L(w, b))\n",
    "'''"
   ]
  }
 ],
 "metadata": {
  "kernelspec": {
   "display_name": "Python 3",
   "language": "python",
   "name": "python3"
  },
  "language_info": {
   "codemirror_mode": {
    "name": "ipython",
    "version": 3
   },
   "file_extension": ".py",
   "mimetype": "text/x-python",
   "name": "python",
   "nbconvert_exporter": "python",
   "pygments_lexer": "ipython3",
   "version": "3.12.0"
  }
 },
 "nbformat": 4,
 "nbformat_minor": 2
}
